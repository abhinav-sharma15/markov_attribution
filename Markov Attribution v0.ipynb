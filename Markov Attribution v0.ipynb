{
 "cells": [
  {
   "cell_type": "code",
   "execution_count": 26,
   "id": "8fb68b14",
   "metadata": {},
   "outputs": [],
   "source": [
    "# importing required libraries\n",
    "import pandas as pd\n",
    "import numpy as np\n",
    "import matplotlib.pyplot as plt\n",
    "import seaborn as sns\n",
    "sns.set()\n",
    "import plotly.io as pio\n",
    "\n",
    "import ChannelAttribution"
   ]
  },
  {
   "cell_type": "code",
   "execution_count": 2,
   "id": "e0341870",
   "metadata": {},
   "outputs": [
    {
     "data": {
      "text/html": [
       "<div>\n",
       "<style scoped>\n",
       "    .dataframe tbody tr th:only-of-type {\n",
       "        vertical-align: middle;\n",
       "    }\n",
       "\n",
       "    .dataframe tbody tr th {\n",
       "        vertical-align: top;\n",
       "    }\n",
       "\n",
       "    .dataframe thead th {\n",
       "        text-align: right;\n",
       "    }\n",
       "</style>\n",
       "<table border=\"1\" class=\"dataframe\">\n",
       "  <thead>\n",
       "    <tr style=\"text-align: right;\">\n",
       "      <th></th>\n",
       "      <th>cookie</th>\n",
       "      <th>time</th>\n",
       "      <th>interaction</th>\n",
       "      <th>conversion</th>\n",
       "      <th>conversion_value</th>\n",
       "      <th>channel</th>\n",
       "    </tr>\n",
       "  </thead>\n",
       "  <tbody>\n",
       "    <tr>\n",
       "      <th>0</th>\n",
       "      <td>00000FkCnDfDDf0iC97iC703B</td>\n",
       "      <td>2018-07-03T13:02:11Z</td>\n",
       "      <td>impression</td>\n",
       "      <td>0</td>\n",
       "      <td>0.0</td>\n",
       "      <td>Instagram</td>\n",
       "    </tr>\n",
       "    <tr>\n",
       "      <th>1</th>\n",
       "      <td>00000FkCnDfDDf0iC97iC703B</td>\n",
       "      <td>2018-07-17T19:15:07Z</td>\n",
       "      <td>impression</td>\n",
       "      <td>0</td>\n",
       "      <td>0.0</td>\n",
       "      <td>Online Display</td>\n",
       "    </tr>\n",
       "    <tr>\n",
       "      <th>2</th>\n",
       "      <td>00000FkCnDfDDf0iC97iC703B</td>\n",
       "      <td>2018-07-24T15:51:46Z</td>\n",
       "      <td>impression</td>\n",
       "      <td>0</td>\n",
       "      <td>0.0</td>\n",
       "      <td>Online Display</td>\n",
       "    </tr>\n",
       "    <tr>\n",
       "      <th>3</th>\n",
       "      <td>00000FkCnDfDDf0iC97iC703B</td>\n",
       "      <td>2018-07-29T07:44:51Z</td>\n",
       "      <td>impression</td>\n",
       "      <td>0</td>\n",
       "      <td>0.0</td>\n",
       "      <td>Online Display</td>\n",
       "    </tr>\n",
       "    <tr>\n",
       "      <th>4</th>\n",
       "      <td>0000nACkD9nFkBBDECD3ki00E</td>\n",
       "      <td>2018-07-03T09:44:57Z</td>\n",
       "      <td>impression</td>\n",
       "      <td>0</td>\n",
       "      <td>0.0</td>\n",
       "      <td>Paid Search</td>\n",
       "    </tr>\n",
       "  </tbody>\n",
       "</table>\n",
       "</div>"
      ],
      "text/plain": [
       "                      cookie                  time interaction  conversion  \\\n",
       "0  00000FkCnDfDDf0iC97iC703B  2018-07-03T13:02:11Z  impression           0   \n",
       "1  00000FkCnDfDDf0iC97iC703B  2018-07-17T19:15:07Z  impression           0   \n",
       "2  00000FkCnDfDDf0iC97iC703B  2018-07-24T15:51:46Z  impression           0   \n",
       "3  00000FkCnDfDDf0iC97iC703B  2018-07-29T07:44:51Z  impression           0   \n",
       "4  0000nACkD9nFkBBDECD3ki00E  2018-07-03T09:44:57Z  impression           0   \n",
       "\n",
       "   conversion_value         channel  \n",
       "0               0.0       Instagram  \n",
       "1               0.0  Online Display  \n",
       "2               0.0  Online Display  \n",
       "3               0.0  Online Display  \n",
       "4               0.0     Paid Search  "
      ]
     },
     "execution_count": 2,
     "metadata": {},
     "output_type": "execute_result"
    }
   ],
   "source": [
    "# dataset courtsey Morten Hegewald\n",
    "# https://www.dropbox.com/sh/m5d8u7inolw32xu/AADuHNcGToa7ajTcF_JjEkcca?dl=0\n",
    "raw_data = pd.read_csv(\"attribution data.csv\")\n",
    "df = raw_data.copy()\n",
    "df.head()"
   ]
  },
  {
   "cell_type": "code",
   "execution_count": 3,
   "id": "0e3c9cbf",
   "metadata": {},
   "outputs": [
    {
     "data": {
      "text/plain": [
       "(586737, 6)"
      ]
     },
     "execution_count": 3,
     "metadata": {},
     "output_type": "execute_result"
    }
   ],
   "source": [
    "df.shape"
   ]
  },
  {
   "cell_type": "code",
   "execution_count": 4,
   "id": "d55dc27b",
   "metadata": {},
   "outputs": [
    {
     "name": "stdout",
     "output_type": "stream",
     "text": [
      "<class 'pandas.core.frame.DataFrame'>\n",
      "RangeIndex: 586737 entries, 0 to 586736\n",
      "Data columns (total 6 columns):\n",
      " #   Column            Non-Null Count   Dtype  \n",
      "---  ------            --------------   -----  \n",
      " 0   cookie            586737 non-null  object \n",
      " 1   time              586737 non-null  object \n",
      " 2   interaction       586737 non-null  object \n",
      " 3   conversion        586737 non-null  int64  \n",
      " 4   conversion_value  586737 non-null  float64\n",
      " 5   channel           586737 non-null  object \n",
      "dtypes: float64(1), int64(1), object(4)\n",
      "memory usage: 26.9+ MB\n"
     ]
    }
   ],
   "source": [
    "df.info()"
   ]
  },
  {
   "cell_type": "code",
   "execution_count": 5,
   "id": "b1a2668b",
   "metadata": {},
   "outputs": [
    {
     "data": {
      "text/plain": [
       "Text(0.5, 1.0, 'Channel Distribution')"
      ]
     },
     "execution_count": 5,
     "metadata": {},
     "output_type": "execute_result"
    },
    {
     "data": {
      "image/png": "[encoded data removed]",
      "text/plain": [
       "<Figure size 500x500 with 1 Axes>"
      ]
     },
     "metadata": {},
     "output_type": "display_data"
    }
   ],
   "source": [
    "# representation of channels\n",
    "plt.figure(figsize=(5,5))\n",
    "plt.pie(df['channel'].value_counts(), labels = list(df['channel'].value_counts().keys())\n",
    ",autopct = '%1.1f%%',radius = 1.2,pctdistance = 0.9, labeldistance = 1.05)\n",
    "plt.title('Channel Distribution', loc = 'center') "
   ]
  },
  {
   "cell_type": "code",
   "execution_count": 6,
   "id": "c9d7bbc4",
   "metadata": {},
   "outputs": [
    {
     "data": {
      "text/html": [
       "<div>\n",
       "<style scoped>\n",
       "    .dataframe tbody tr th:only-of-type {\n",
       "        vertical-align: middle;\n",
       "    }\n",
       "\n",
       "    .dataframe tbody tr th {\n",
       "        vertical-align: top;\n",
       "    }\n",
       "\n",
       "    .dataframe thead th {\n",
       "        text-align: right;\n",
       "    }\n",
       "</style>\n",
       "<table border=\"1\" class=\"dataframe\">\n",
       "  <thead>\n",
       "    <tr style=\"text-align: right;\">\n",
       "      <th>conversion</th>\n",
       "      <th>0</th>\n",
       "      <th>1</th>\n",
       "    </tr>\n",
       "    <tr>\n",
       "      <th>channel</th>\n",
       "      <th></th>\n",
       "      <th></th>\n",
       "    </tr>\n",
       "  </thead>\n",
       "  <tbody>\n",
       "    <tr>\n",
       "      <th>Facebook</th>\n",
       "      <td>96.98</td>\n",
       "      <td>3.02</td>\n",
       "    </tr>\n",
       "    <tr>\n",
       "      <th>Instagram</th>\n",
       "      <td>97.02</td>\n",
       "      <td>2.98</td>\n",
       "    </tr>\n",
       "    <tr>\n",
       "      <th>Online Display</th>\n",
       "      <td>96.99</td>\n",
       "      <td>3.01</td>\n",
       "    </tr>\n",
       "    <tr>\n",
       "      <th>Online Video</th>\n",
       "      <td>96.99</td>\n",
       "      <td>3.01</td>\n",
       "    </tr>\n",
       "    <tr>\n",
       "      <th>Paid Search</th>\n",
       "      <td>97.00</td>\n",
       "      <td>3.00</td>\n",
       "    </tr>\n",
       "  </tbody>\n",
       "</table>\n",
       "</div>"
      ],
      "text/plain": [
       "conversion          0     1\n",
       "channel                    \n",
       "Facebook        96.98  3.02\n",
       "Instagram       97.02  2.98\n",
       "Online Display  96.99  3.01\n",
       "Online Video    96.99  3.01\n",
       "Paid Search     97.00  3.00"
      ]
     },
     "execution_count": 6,
     "metadata": {},
     "output_type": "execute_result"
    }
   ],
   "source": [
    "# channel and conversion crosstab analysis\n",
    "pd.crosstab(df['channel'], df['conversion'], normalize = 'index').round(4)*100"
   ]
  },
  {
   "cell_type": "code",
   "execution_count": 7,
   "id": "d01f87df",
   "metadata": {},
   "outputs": [
    {
     "data": {
      "text/html": [
       "<div>\n",
       "<style scoped>\n",
       "    .dataframe tbody tr th:only-of-type {\n",
       "        vertical-align: middle;\n",
       "    }\n",
       "\n",
       "    .dataframe tbody tr th {\n",
       "        vertical-align: top;\n",
       "    }\n",
       "\n",
       "    .dataframe thead th {\n",
       "        text-align: right;\n",
       "    }\n",
       "</style>\n",
       "<table border=\"1\" class=\"dataframe\">\n",
       "  <thead>\n",
       "    <tr style=\"text-align: right;\">\n",
       "      <th>conversion</th>\n",
       "      <th>0</th>\n",
       "      <th>1</th>\n",
       "    </tr>\n",
       "    <tr>\n",
       "      <th>channel</th>\n",
       "      <th></th>\n",
       "      <th></th>\n",
       "    </tr>\n",
       "  </thead>\n",
       "  <tbody>\n",
       "    <tr>\n",
       "      <th>Facebook</th>\n",
       "      <td>29.95</td>\n",
       "      <td>30.05</td>\n",
       "    </tr>\n",
       "    <tr>\n",
       "      <th>Instagram</th>\n",
       "      <td>12.82</td>\n",
       "      <td>12.72</td>\n",
       "    </tr>\n",
       "    <tr>\n",
       "      <th>Online Display</th>\n",
       "      <td>12.11</td>\n",
       "      <td>12.13</td>\n",
       "    </tr>\n",
       "    <tr>\n",
       "      <th>Online Video</th>\n",
       "      <td>19.31</td>\n",
       "      <td>19.32</td>\n",
       "    </tr>\n",
       "    <tr>\n",
       "      <th>Paid Search</th>\n",
       "      <td>25.81</td>\n",
       "      <td>25.78</td>\n",
       "    </tr>\n",
       "  </tbody>\n",
       "</table>\n",
       "</div>"
      ],
      "text/plain": [
       "conversion          0      1\n",
       "channel                     \n",
       "Facebook        29.95  30.05\n",
       "Instagram       12.82  12.72\n",
       "Online Display  12.11  12.13\n",
       "Online Video    19.31  19.32\n",
       "Paid Search     25.81  25.78"
      ]
     },
     "execution_count": 7,
     "metadata": {},
     "output_type": "execute_result"
    }
   ],
   "source": [
    "# channel and conversion crosstab analysis (vertical)\n",
    "pd.crosstab(df['channel'], df['conversion'], normalize = 'columns').round(4)*100"
   ]
  },
  {
   "cell_type": "markdown",
   "id": "02169a71",
   "metadata": {},
   "source": [
    "This looks like a balanced dataset in terms of channels. This might be because the data set was artificially created or sampled from original set. In any case, this will lead to various algorithms projecting similar attribution. Hence we will atrificially introduce some imbalance in one of the channels to see hoe the deviation impacts the attributions. \n",
    "In this case, we will focus on Instagram as a channel and reduce its conversions by a fair margin."
   ]
  },
  {
   "cell_type": "code",
   "execution_count": 8,
   "id": "bf54f586",
   "metadata": {},
   "outputs": [],
   "source": [
    "remove_n = 1500\n",
    "drop_indices = np.random.choice(df.loc[(df['channel'] == 'Instagram') & (df['conversion'] == 1)].index, remove_n, replace=False)\n",
    "df = df.drop(drop_indices)"
   ]
  },
  {
   "cell_type": "code",
   "execution_count": 9,
   "id": "a649a97f",
   "metadata": {},
   "outputs": [
    {
     "data": {
      "text/html": [
       "<div>\n",
       "<style scoped>\n",
       "    .dataframe tbody tr th:only-of-type {\n",
       "        vertical-align: middle;\n",
       "    }\n",
       "\n",
       "    .dataframe tbody tr th {\n",
       "        vertical-align: top;\n",
       "    }\n",
       "\n",
       "    .dataframe thead th {\n",
       "        text-align: right;\n",
       "    }\n",
       "</style>\n",
       "<table border=\"1\" class=\"dataframe\">\n",
       "  <thead>\n",
       "    <tr style=\"text-align: right;\">\n",
       "      <th>conversion</th>\n",
       "      <th>0</th>\n",
       "      <th>1</th>\n",
       "    </tr>\n",
       "    <tr>\n",
       "      <th>channel</th>\n",
       "      <th></th>\n",
       "      <th></th>\n",
       "    </tr>\n",
       "  </thead>\n",
       "  <tbody>\n",
       "    <tr>\n",
       "      <th>Facebook</th>\n",
       "      <td>96.98</td>\n",
       "      <td>3.02</td>\n",
       "    </tr>\n",
       "    <tr>\n",
       "      <th>Instagram</th>\n",
       "      <td>98.99</td>\n",
       "      <td>1.01</td>\n",
       "    </tr>\n",
       "    <tr>\n",
       "      <th>Online Display</th>\n",
       "      <td>96.99</td>\n",
       "      <td>3.01</td>\n",
       "    </tr>\n",
       "    <tr>\n",
       "      <th>Online Video</th>\n",
       "      <td>96.99</td>\n",
       "      <td>3.01</td>\n",
       "    </tr>\n",
       "    <tr>\n",
       "      <th>Paid Search</th>\n",
       "      <td>97.00</td>\n",
       "      <td>3.00</td>\n",
       "    </tr>\n",
       "  </tbody>\n",
       "</table>\n",
       "</div>"
      ],
      "text/plain": [
       "conversion          0     1\n",
       "channel                    \n",
       "Facebook        96.98  3.02\n",
       "Instagram       98.99  1.01\n",
       "Online Display  96.99  3.01\n",
       "Online Video    96.99  3.01\n",
       "Paid Search     97.00  3.00"
      ]
     },
     "execution_count": 9,
     "metadata": {},
     "output_type": "execute_result"
    }
   ],
   "source": [
    "# channel and conversion crosstab analysis\n",
    "pd.crosstab(df['channel'], df['conversion'], normalize = 'index').round(4)*100"
   ]
  },
  {
   "cell_type": "markdown",
   "id": "31e4a8dc",
   "metadata": {},
   "source": [
    "We can now see that Instagram last touch conversions has been reduced from 3 to 1%. Last touch attibution will reflect this in terms of attribution. However, in terms of channel role, we now know that instagram plays a stronger role at mid funnel as a player and a data led attribution model should rightly reflect that."
   ]
  },
  {
   "cell_type": "code",
   "execution_count": 11,
   "id": "7acea8ba",
   "metadata": {},
   "outputs": [
    {
     "data": {
      "text/html": [
       "<div>\n",
       "<style scoped>\n",
       "    .dataframe tbody tr th:only-of-type {\n",
       "        vertical-align: middle;\n",
       "    }\n",
       "\n",
       "    .dataframe tbody tr th {\n",
       "        vertical-align: top;\n",
       "    }\n",
       "\n",
       "    .dataframe thead th {\n",
       "        text-align: right;\n",
       "    }\n",
       "</style>\n",
       "<table border=\"1\" class=\"dataframe\">\n",
       "  <thead>\n",
       "    <tr style=\"text-align: right;\">\n",
       "      <th></th>\n",
       "      <th>channel</th>\n",
       "      <th>conversion</th>\n",
       "    </tr>\n",
       "  </thead>\n",
       "  <tbody>\n",
       "    <tr>\n",
       "      <th>0</th>\n",
       "      <td>[Instagram, Online Display, Online Display, On...</td>\n",
       "      <td>0</td>\n",
       "    </tr>\n",
       "    <tr>\n",
       "      <th>1</th>\n",
       "      <td>[Paid Search, Paid Search, Paid Search, Paid S...</td>\n",
       "      <td>0</td>\n",
       "    </tr>\n",
       "    <tr>\n",
       "      <th>2</th>\n",
       "      <td>[Paid Search, Paid Search, Paid Search, Paid S...</td>\n",
       "      <td>0</td>\n",
       "    </tr>\n",
       "    <tr>\n",
       "      <th>3</th>\n",
       "      <td>[Instagram]</td>\n",
       "      <td>0</td>\n",
       "    </tr>\n",
       "    <tr>\n",
       "      <th>4</th>\n",
       "      <td>[Paid Search]</td>\n",
       "      <td>0</td>\n",
       "    </tr>\n",
       "  </tbody>\n",
       "</table>\n",
       "</div>"
      ],
      "text/plain": [
       "                                             channel  conversion\n",
       "0  [Instagram, Online Display, Online Display, On...           0\n",
       "1  [Paid Search, Paid Search, Paid Search, Paid S...           0\n",
       "2  [Paid Search, Paid Search, Paid Search, Paid S...           0\n",
       "3                                        [Instagram]           0\n",
       "4                                      [Paid Search]           0"
      ]
     },
     "execution_count": 11,
     "metadata": {},
     "output_type": "execute_result"
    }
   ],
   "source": [
    "# creating a channel stack and corresponding conversions\n",
    "temp = df.groupby('cookie')['channel'].aggregate(lambda x: x.tolist()).reset_index()\n",
    "df_last_interaction = df.drop_duplicates('cookie', keep='last')[['cookie', 'conversion']]\n",
    "temp = pd.merge(temp, df_last_interaction, how='left', on='cookie')[['channel', 'conversion']]\n",
    "temp.head()"
   ]
  },
  {
   "cell_type": "code",
   "execution_count": 12,
   "id": "07ba70ac",
   "metadata": {},
   "outputs": [],
   "source": [
    "# creating a string path from list and some cleaning \n",
    "temp['path'] = temp['channel'].apply(str)\n",
    "for i in temp.index:\n",
    "    temp.at[i, 'path'] = temp.at[i, 'path'].replace('[','')\n",
    "    temp.at[i, 'path'] = temp.at[i, 'path'].replace(']','')\n",
    "    temp.at[i, 'path'] = temp.at[i, 'path'].replace(',','>')"
   ]
  },
  {
   "cell_type": "code",
   "execution_count": 15,
   "id": "f7191f8b",
   "metadata": {},
   "outputs": [
    {
     "data": {
      "text/html": [
       "<div>\n",
       "<style scoped>\n",
       "    .dataframe tbody tr th:only-of-type {\n",
       "        vertical-align: middle;\n",
       "    }\n",
       "\n",
       "    .dataframe tbody tr th {\n",
       "        vertical-align: top;\n",
       "    }\n",
       "\n",
       "    .dataframe thead th {\n",
       "        text-align: right;\n",
       "    }\n",
       "</style>\n",
       "<table border=\"1\" class=\"dataframe\">\n",
       "  <thead>\n",
       "    <tr style=\"text-align: right;\">\n",
       "      <th>conversion</th>\n",
       "      <th>path</th>\n",
       "      <th>0</th>\n",
       "      <th>1</th>\n",
       "    </tr>\n",
       "  </thead>\n",
       "  <tbody>\n",
       "    <tr>\n",
       "      <th>0</th>\n",
       "      <td>'Facebook'</td>\n",
       "      <td>32948</td>\n",
       "      <td>2054</td>\n",
       "    </tr>\n",
       "    <tr>\n",
       "      <th>1</th>\n",
       "      <td>'Facebook'&gt; 'Facebook'</td>\n",
       "      <td>7479</td>\n",
       "      <td>538</td>\n",
       "    </tr>\n",
       "    <tr>\n",
       "      <th>2</th>\n",
       "      <td>'Facebook'&gt; 'Facebook'&gt; 'Facebook'</td>\n",
       "      <td>2095</td>\n",
       "      <td>230</td>\n",
       "    </tr>\n",
       "    <tr>\n",
       "      <th>3</th>\n",
       "      <td>'Facebook'&gt; 'Facebook'&gt; 'Facebook'&gt; 'Facebook'</td>\n",
       "      <td>761</td>\n",
       "      <td>85</td>\n",
       "    </tr>\n",
       "    <tr>\n",
       "      <th>4</th>\n",
       "      <td>'Facebook'&gt; 'Facebook'&gt; 'Facebook'&gt; 'Facebook'...</td>\n",
       "      <td>322</td>\n",
       "      <td>41</td>\n",
       "    </tr>\n",
       "  </tbody>\n",
       "</table>\n",
       "</div>"
      ],
      "text/plain": [
       "conversion                                               path      0     1\n",
       "0                                                  'Facebook'  32948  2054\n",
       "1                                      'Facebook'> 'Facebook'   7479   538\n",
       "2                          'Facebook'> 'Facebook'> 'Facebook'   2095   230\n",
       "3              'Facebook'> 'Facebook'> 'Facebook'> 'Facebook'    761    85\n",
       "4           'Facebook'> 'Facebook'> 'Facebook'> 'Facebook'...    322    41"
      ]
     },
     "execution_count": 15,
     "metadata": {},
     "output_type": "execute_result"
    }
   ],
   "source": [
    "temp1 = pd.crosstab(temp['path'], temp['conversion']).reset_index()\n",
    "temp1.head()"
   ]
  },
  {
   "cell_type": "code",
   "execution_count": 17,
   "id": "b7c2dbf6",
   "metadata": {},
   "outputs": [
    {
     "data": {
      "text/html": [
       "<div>\n",
       "<style scoped>\n",
       "    .dataframe tbody tr th:only-of-type {\n",
       "        vertical-align: middle;\n",
       "    }\n",
       "\n",
       "    .dataframe tbody tr th {\n",
       "        vertical-align: top;\n",
       "    }\n",
       "\n",
       "    .dataframe thead th {\n",
       "        text-align: right;\n",
       "    }\n",
       "</style>\n",
       "<table border=\"1\" class=\"dataframe\">\n",
       "  <thead>\n",
       "    <tr style=\"text-align: right;\">\n",
       "      <th></th>\n",
       "      <th>path</th>\n",
       "      <th>total_conversion</th>\n",
       "      <th>total_null</th>\n",
       "    </tr>\n",
       "  </thead>\n",
       "  <tbody>\n",
       "    <tr>\n",
       "      <th>0</th>\n",
       "      <td>'Facebook'</td>\n",
       "      <td>2054</td>\n",
       "      <td>32948</td>\n",
       "    </tr>\n",
       "    <tr>\n",
       "      <th>1</th>\n",
       "      <td>'Facebook'&gt; 'Facebook'</td>\n",
       "      <td>538</td>\n",
       "      <td>7479</td>\n",
       "    </tr>\n",
       "    <tr>\n",
       "      <th>2</th>\n",
       "      <td>'Facebook'&gt; 'Facebook'&gt; 'Facebook'</td>\n",
       "      <td>230</td>\n",
       "      <td>2095</td>\n",
       "    </tr>\n",
       "    <tr>\n",
       "      <th>3</th>\n",
       "      <td>'Facebook'&gt; 'Facebook'&gt; 'Facebook'&gt; 'Facebook'</td>\n",
       "      <td>85</td>\n",
       "      <td>761</td>\n",
       "    </tr>\n",
       "    <tr>\n",
       "      <th>4</th>\n",
       "      <td>'Facebook'&gt; 'Facebook'&gt; 'Facebook'&gt; 'Facebook'...</td>\n",
       "      <td>41</td>\n",
       "      <td>322</td>\n",
       "    </tr>\n",
       "  </tbody>\n",
       "</table>\n",
       "</div>"
      ],
      "text/plain": [
       "                                                path  total_conversion  \\\n",
       "0                                         'Facebook'              2054   \n",
       "1                             'Facebook'> 'Facebook'               538   \n",
       "2                 'Facebook'> 'Facebook'> 'Facebook'               230   \n",
       "3     'Facebook'> 'Facebook'> 'Facebook'> 'Facebook'                85   \n",
       "4  'Facebook'> 'Facebook'> 'Facebook'> 'Facebook'...                41   \n",
       "\n",
       "   total_null  \n",
       "0       32948  \n",
       "1        7479  \n",
       "2        2095  \n",
       "3         761  \n",
       "4         322  "
      ]
     },
     "execution_count": 17,
     "metadata": {},
     "output_type": "execute_result"
    }
   ],
   "source": [
    "# Final paths dataframe\n",
    "df_path = pd.DataFrame()\n",
    "df_path['path'] = temp1['path']\n",
    "df_path['total_conversion'] = temp1[1]\n",
    "df_path['total_null'] = temp1[0]\n",
    "df_path.head()"
   ]
  },
  {
   "cell_type": "code",
   "execution_count": 23,
   "id": "e0476c9c",
   "metadata": {},
   "outputs": [
    {
     "data": {
      "text/html": [
       "<div>\n",
       "<style scoped>\n",
       "    .dataframe tbody tr th:only-of-type {\n",
       "        vertical-align: middle;\n",
       "    }\n",
       "\n",
       "    .dataframe tbody tr th {\n",
       "        vertical-align: top;\n",
       "    }\n",
       "\n",
       "    .dataframe thead th {\n",
       "        text-align: right;\n",
       "    }\n",
       "</style>\n",
       "<table border=\"1\" class=\"dataframe\">\n",
       "  <thead>\n",
       "    <tr style=\"text-align: right;\">\n",
       "      <th></th>\n",
       "      <th>channel_name</th>\n",
       "      <th>first_touch</th>\n",
       "      <th>last_touch</th>\n",
       "      <th>linear_touch</th>\n",
       "    </tr>\n",
       "  </thead>\n",
       "  <tbody>\n",
       "    <tr>\n",
       "      <th>0</th>\n",
       "      <td>'Facebook'</td>\n",
       "      <td>4666.0</td>\n",
       "      <td>5301.0</td>\n",
       "      <td>4830.235095</td>\n",
       "    </tr>\n",
       "    <tr>\n",
       "      <th>1</th>\n",
       "      <td>'Instagram'</td>\n",
       "      <td>1487.0</td>\n",
       "      <td>744.0</td>\n",
       "      <td>1249.401202</td>\n",
       "    </tr>\n",
       "    <tr>\n",
       "      <th>2</th>\n",
       "      <td>'Online Display'</td>\n",
       "      <td>2118.0</td>\n",
       "      <td>2139.0</td>\n",
       "      <td>2099.613833</td>\n",
       "    </tr>\n",
       "    <tr>\n",
       "      <th>3</th>\n",
       "      <td>'Online Video'</td>\n",
       "      <td>3181.0</td>\n",
       "      <td>3408.0</td>\n",
       "      <td>3322.373196</td>\n",
       "    </tr>\n",
       "    <tr>\n",
       "      <th>4</th>\n",
       "      <td>'Paid Search'</td>\n",
       "      <td>4687.0</td>\n",
       "      <td>4547.0</td>\n",
       "      <td>4637.376674</td>\n",
       "    </tr>\n",
       "  </tbody>\n",
       "</table>\n",
       "</div>"
      ],
      "text/plain": [
       "       channel_name  first_touch  last_touch  linear_touch\n",
       "0        'Facebook'       4666.0      5301.0   4830.235095\n",
       "1       'Instagram'       1487.0       744.0   1249.401202\n",
       "2  'Online Display'       2118.0      2139.0   2099.613833\n",
       "3    'Online Video'       3181.0      3408.0   3322.373196\n",
       "4     'Paid Search'       4687.0      4547.0   4637.376674"
      ]
     },
     "execution_count": 23,
     "metadata": {},
     "output_type": "execute_result"
    }
   ],
   "source": [
    "# heuristic models : first touch, last touch and linear \n",
    "H = ChannelAttribution.heuristic_models(df_path, 'path', 'total_conversion')\n",
    "H"
   ]
  },
  {
   "cell_type": "code",
   "execution_count": 34,
   "id": "9fe00f8b",
   "metadata": {},
   "outputs": [
    {
     "name": "stdout",
     "output_type": "stream",
     "text": [
      "Suggested order not found. Try increasing max_order.\n",
      "Number of simulations: 100000 - Reaching convergence (wait...): 7.05% > 5.00%\n",
      "Number of simulations: 150000 - Reaching convergence (wait...): 6.22% > 5.00%\n",
      "Number of simulations: 225000 - Reaching convergence (wait...): 5.04% > 5.00%\n",
      "Number of simulations: 337500 - Convergence reached: 4.52% < 5.00%\n",
      "Percentage of simulated paths that successfully end before maximum number of steps (118) is reached: 99.99%\n"
     ]
    },
    {
     "data": {
      "text/html": [
       "<div>\n",
       "<style scoped>\n",
       "    .dataframe tbody tr th:only-of-type {\n",
       "        vertical-align: middle;\n",
       "    }\n",
       "\n",
       "    .dataframe tbody tr th {\n",
       "        vertical-align: top;\n",
       "    }\n",
       "\n",
       "    .dataframe thead th {\n",
       "        text-align: right;\n",
       "    }\n",
       "</style>\n",
       "<table border=\"1\" class=\"dataframe\">\n",
       "  <thead>\n",
       "    <tr style=\"text-align: right;\">\n",
       "      <th></th>\n",
       "      <th>channel_name</th>\n",
       "      <th>total_conversions</th>\n",
       "    </tr>\n",
       "  </thead>\n",
       "  <tbody>\n",
       "    <tr>\n",
       "      <th>0</th>\n",
       "      <td>'Facebook'</td>\n",
       "      <td>4819.944772</td>\n",
       "    </tr>\n",
       "    <tr>\n",
       "      <th>1</th>\n",
       "      <td>'Instagram'</td>\n",
       "      <td>2293.803691</td>\n",
       "    </tr>\n",
       "    <tr>\n",
       "      <th>2</th>\n",
       "      <td>'Online Display'</td>\n",
       "      <td>2008.662348</td>\n",
       "    </tr>\n",
       "    <tr>\n",
       "      <th>3</th>\n",
       "      <td>'Online Video'</td>\n",
       "      <td>2821.843214</td>\n",
       "    </tr>\n",
       "    <tr>\n",
       "      <th>4</th>\n",
       "      <td>'Paid Search'</td>\n",
       "      <td>4194.745976</td>\n",
       "    </tr>\n",
       "  </tbody>\n",
       "</table>\n",
       "</div>"
      ],
      "text/plain": [
       "       channel_name  total_conversions\n",
       "0        'Facebook'        4819.944772\n",
       "1       'Instagram'        2293.803691\n",
       "2  'Online Display'        2008.662348\n",
       "3    'Online Video'        2821.843214\n",
       "4     'Paid Search'        4194.745976"
      ]
     },
     "execution_count": 34,
     "metadata": {},
     "output_type": "execute_result"
    }
   ],
   "source": [
    "M = ChannelAttribution.auto_markov_model(df_path, 'path', 'total_conversion', 'total_null')\n",
    "M"
   ]
  },
  {
   "cell_type": "code",
   "execution_count": 36,
   "id": "048d8f47",
   "metadata": {},
   "outputs": [
    {
     "data": {
      "application/vnd.plotly.v1+json": {
       "config": {
        "plotlyServerURL": "https://plot.ly"
       },
       "data": [
        {
         "histfunc": "sum",
         "transforms": [
          {
           "groups": [
            "first_touch",
            "first_touch",
            "first_touch",
            "first_touch",
            "first_touch",
            "last_touch",
            "last_touch",
            "last_touch",
            "last_touch",
            "last_touch",
            "linear_touch",
            "linear_touch",
            "linear_touch",
            "linear_touch",
            "linear_touch",
            "markov_model",
            "markov_model",
            "markov_model",
            "markov_model",
            "markov_model"
           ],
           "type": "groupby"
          }
         ],
         "type": "histogram",
         "x": [
          "'Facebook'",
          "'Instagram'",
          "'Online Display'",
          "'Online Video'",
          "'Paid Search'",
          "'Facebook'",
          "'Instagram'",
          "'Online Display'",
          "'Online Video'",
          "'Paid Search'",
          "'Facebook'",
          "'Instagram'",
          "'Online Display'",
          "'Online Video'",
          "'Paid Search'",
          "'Facebook'",
          "'Instagram'",
          "'Online Display'",
          "'Online Video'",
          "'Paid Search'"
         ],
         "y": [
          4666,
          1487,
          2118,
          3181,
          4687,
          5301,
          744,
          2139,
          3408,
          4547,
          4830.235094901958,
          1249.4012018616538,
          2099.613832938526,
          3322.3731959631164,
          4637.376674334741,
          4819.9447716267505,
          2293.8036906164116,
          2008.6623478602278,
          2821.8432142389743,
          4194.745975657636
         ]
        }
       ]
      },
      "text/html": [
       "<div>                            <div id=\"b5797582-5033-4dc5-b51f-a00b797bb046\" class=\"plotly-graph-div\" style=\"height:525px; width:100%;\"></div>            <script type=\"text/javascript\">                require([\"plotly\"], function(Plotly) {                    window.PLOTLYENV=window.PLOTLYENV || {};                                    if (document.getElementById(\"b5797582-5033-4dc5-b51f-a00b797bb046\")) {                    Plotly.newPlot(                        \"b5797582-5033-4dc5-b51f-a00b797bb046\",                        [{\"type\":\"histogram\",\"histfunc\":\"sum\",\"x\":[\"'Facebook'\",\"'Instagram'\",\"'Online Display'\",\"'Online Video'\",\"'Paid Search'\",\"'Facebook'\",\"'Instagram'\",\"'Online Display'\",\"'Online Video'\",\"'Paid Search'\",\"'Facebook'\",\"'Instagram'\",\"'Online Display'\",\"'Online Video'\",\"'Paid Search'\",\"'Facebook'\",\"'Instagram'\",\"'Online Display'\",\"'Online Video'\",\"'Paid Search'\"],\"y\":[4666.0,1487.0,2118.0,3181.0,4687.0,5301.0,744.0,2139.0,3408.0,4547.0,4830.235094901958,1249.4012018616538,2099.613832938526,3322.3731959631164,4637.376674334741,4819.9447716267505,2293.8036906164116,2008.6623478602278,2821.8432142389743,4194.745975657636],\"transforms\":[{\"type\":\"groupby\",\"groups\":[\"first_touch\",\"first_touch\",\"first_touch\",\"first_touch\",\"first_touch\",\"last_touch\",\"last_touch\",\"last_touch\",\"last_touch\",\"last_touch\",\"linear_touch\",\"linear_touch\",\"linear_touch\",\"linear_touch\",\"linear_touch\",\"markov_model\",\"markov_model\",\"markov_model\",\"markov_model\",\"markov_model\"]}]}],                        {},                        {\"responsive\": true}                    ).then(function(){\n",
       "                            \n",
       "var gd = document.getElementById('b5797582-5033-4dc5-b51f-a00b797bb046');\n",
       "var x = new MutationObserver(function (mutations, observer) {{\n",
       "        var display = window.getComputedStyle(gd).display;\n",
       "        if (!display || display === 'none') {{\n",
       "            console.log([gd, 'removed!']);\n",
       "            Plotly.purge(gd);\n",
       "            observer.disconnect();\n",
       "        }}\n",
       "}});\n",
       "\n",
       "// Listen for the removal of the full notebook cells\n",
       "var notebookContainer = gd.closest('#notebook-container');\n",
       "if (notebookContainer) {{\n",
       "    x.observe(notebookContainer, {childList: true});\n",
       "}}\n",
       "\n",
       "// Listen for the clearing of the current output cell\n",
       "var outputEl = gd.closest('.output');\n",
       "if (outputEl) {{\n",
       "    x.observe(outputEl, {childList: true});\n",
       "}}\n",
       "\n",
       "                        })                };                });            </script>        </div>"
      ]
     },
     "metadata": {},
     "output_type": "display_data"
    }
   ],
   "source": [
    "R=pd.merge(H,M,on=\"channel_name\",how=\"inner\")\n",
    "R1=R[[\"channel_name\",\"first_touch\",\"last_touch\",\\\n",
    "\"linear_touch\",\"total_conversions\"]]\n",
    "R1.columns=[\"channel_name\",\"first_touch\",\"last_touch\",\"linear_touch\",\"markov_model\"]\n",
    "R1=pd.melt(R1, id_vars=\"channel_name\")\n",
    "data = [dict(\n",
    "type = \"histogram\",\n",
    "histfunc=\"sum\",\n",
    "x = R1.channel_name,\n",
    "y = R1.value,\n",
    "transforms = [dict(\n",
    "type = \"groupby\",\n",
    "groups = R1.variable,\n",
    ")],\n",
    ")]\n",
    "fig = dict({\"data\":data})\n",
    "pio.show(fig,validate=False)"
   ]
  },
  {
   "cell_type": "code",
   "execution_count": null,
   "id": "f9c67981",
   "metadata": {},
   "outputs": [],
   "source": []
  }
 ],
 "metadata": {
  "kernelspec": {
   "display_name": "Python 3 (ipykernel)",
   "language": "python",
   "name": "python3"
  },
  "language_info": {
   "codemirror_mode": {
    "name": "ipython",
    "version": 3
   },
   "file_extension": ".py",
   "mimetype": "text/x-python",
   "name": "python",
   "nbconvert_exporter": "python",
   "pygments_lexer": "ipython3",
   "version": "3.9.13"
  }
 },
 "nbformat": 4,
 "nbformat_minor": 5
}
